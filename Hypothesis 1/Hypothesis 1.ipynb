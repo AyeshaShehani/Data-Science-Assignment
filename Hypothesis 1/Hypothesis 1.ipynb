{
 "cells": [
  {
   "cell_type": "markdown",
   "metadata": {},
   "source": [
    "## Number of kids vs. hours worked\n",
    "Checks whether the number of working hours has an impact of number of kids a person has."
   ]
  },
  {
   "cell_type": "code",
   "execution_count": 46,
   "metadata": {},
   "outputs": [],
   "source": [
    "# import packages\n",
    "import pandas as pd\n",
    "import numpy as np\n",
    "import matplotlib.pyplot as plt\n",
    "import os\n",
    "from scipy import stats\n",
    "\n",
    "# set path\n",
    "os.chdir(\"C:\\\\Users\\\\Ayesha\\\\Desktop\\\\JPNB Scripts\\\\MSc\\\\Hypothesis 1\")"
   ]
  },
  {
   "cell_type": "code",
   "execution_count": 2,
   "metadata": {
    "scrolled": false
   },
   "outputs": [
    {
     "data": {
      "text/html": [
       "<div>\n",
       "<style scoped>\n",
       "    .dataframe tbody tr th:only-of-type {\n",
       "        vertical-align: middle;\n",
       "    }\n",
       "\n",
       "    .dataframe tbody tr th {\n",
       "        vertical-align: top;\n",
       "    }\n",
       "\n",
       "    .dataframe thead th {\n",
       "        text-align: right;\n",
       "    }\n",
       "</style>\n",
       "<table border=\"1\" class=\"dataframe\">\n",
       "  <thead>\n",
       "    <tr style=\"text-align: right;\">\n",
       "      <th></th>\n",
       "      <th>Seq No</th>\n",
       "      <th>intnum</th>\n",
       "      <th>persnum</th>\n",
       "      <th>age</th>\n",
       "      <th>educatn</th>\n",
       "      <th>earnings</th>\n",
       "      <th>hours</th>\n",
       "      <th>kids</th>\n",
       "      <th>married</th>\n",
       "    </tr>\n",
       "  </thead>\n",
       "  <tbody>\n",
       "    <tr>\n",
       "      <th>0</th>\n",
       "      <td>1</td>\n",
       "      <td>4</td>\n",
       "      <td>4</td>\n",
       "      <td>39</td>\n",
       "      <td>12.0</td>\n",
       "      <td>77250</td>\n",
       "      <td>2940</td>\n",
       "      <td>2</td>\n",
       "      <td>married</td>\n",
       "    </tr>\n",
       "    <tr>\n",
       "      <th>1</th>\n",
       "      <td>2</td>\n",
       "      <td>4</td>\n",
       "      <td>6</td>\n",
       "      <td>35</td>\n",
       "      <td>12.0</td>\n",
       "      <td>12000</td>\n",
       "      <td>2040</td>\n",
       "      <td>2</td>\n",
       "      <td>divorced</td>\n",
       "    </tr>\n",
       "    <tr>\n",
       "      <th>2</th>\n",
       "      <td>3</td>\n",
       "      <td>4</td>\n",
       "      <td>7</td>\n",
       "      <td>33</td>\n",
       "      <td>12.0</td>\n",
       "      <td>8000</td>\n",
       "      <td>693</td>\n",
       "      <td>1</td>\n",
       "      <td>married</td>\n",
       "    </tr>\n",
       "    <tr>\n",
       "      <th>3</th>\n",
       "      <td>4</td>\n",
       "      <td>4</td>\n",
       "      <td>173</td>\n",
       "      <td>39</td>\n",
       "      <td>10.0</td>\n",
       "      <td>15000</td>\n",
       "      <td>1904</td>\n",
       "      <td>2</td>\n",
       "      <td>married</td>\n",
       "    </tr>\n",
       "    <tr>\n",
       "      <th>4</th>\n",
       "      <td>5</td>\n",
       "      <td>5</td>\n",
       "      <td>2</td>\n",
       "      <td>47</td>\n",
       "      <td>9.0</td>\n",
       "      <td>6500</td>\n",
       "      <td>1683</td>\n",
       "      <td>5</td>\n",
       "      <td>married</td>\n",
       "    </tr>\n",
       "  </tbody>\n",
       "</table>\n",
       "</div>"
      ],
      "text/plain": [
       "   Seq No  intnum  persnum  age  educatn  earnings  hours  kids   married\n",
       "0       1       4        4   39     12.0     77250   2940     2   married\n",
       "1       2       4        6   35     12.0     12000   2040     2  divorced\n",
       "2       3       4        7   33     12.0      8000    693     1   married\n",
       "3       4       4      173   39     10.0     15000   1904     2   married\n",
       "4       5       5        2   47      9.0      6500   1683     5   married"
      ]
     },
     "execution_count": 2,
     "metadata": {},
     "output_type": "execute_result"
    }
   ],
   "source": [
    "# import dataset\n",
    "data = pd.read_csv(\"PSID.csv\", encoding = 'latin1', low_memory=False)\n",
    "data.head()"
   ]
  },
  {
   "cell_type": "code",
   "execution_count": 53,
   "metadata": {},
   "outputs": [],
   "source": [
    "# remove outliers\n",
    "data = data[data.hours != 0]\n",
    "data = data[data.kids < 10]"
   ]
  },
  {
   "cell_type": "markdown",
   "metadata": {},
   "source": [
    "## Visualizations"
   ]
  },
  {
   "cell_type": "markdown",
   "metadata": {},
   "source": [
    "### Histogram of hours worked"
   ]
  },
  {
   "cell_type": "code",
   "execution_count": 18,
   "metadata": {
    "scrolled": true
   },
   "outputs": [
    {
     "data": {
      "image/png": "[encoded data removed]",
      "text/plain": [
       "<Figure size 432x288 with 1 Axes>"
      ]
     },
     "metadata": {},
     "output_type": "display_data"
    }
   ],
   "source": [
    "plt.hist(data.hours, bins = 50)\n",
    "plt.title('Histogram of hours worked')\n",
    "plt.show()"
   ]
  },
  {
   "cell_type": "markdown",
   "metadata": {},
   "source": [
    "### Histogram for number of kids"
   ]
  },
  {
   "cell_type": "code",
   "execution_count": 29,
   "metadata": {},
   "outputs": [
    {
     "data": {
      "image/png": "[encoded data removed]",
      "text/plain": [
       "<Figure size 432x288 with 1 Axes>"
      ]
     },
     "metadata": {},
     "output_type": "display_data"
    }
   ],
   "source": [
    "plt.hist(data.kids, bins = 50)\n",
    "plt.title('Histogram of number of kids')\n",
    "plt.show()"
   ]
  },
  {
   "cell_type": "markdown",
   "metadata": {},
   "source": [
    "### Pie chart of number of kids"
   ]
  },
  {
   "cell_type": "code",
   "execution_count": 28,
   "metadata": {
    "scrolled": true
   },
   "outputs": [
    {
     "data": {
      "text/plain": [
       "<function matplotlib.pyplot.show(*args, **kw)>"
      ]
     },
     "execution_count": 28,
     "metadata": {},
     "output_type": "execute_result"
    },
    {
     "data": {
      "image/png": "[encoded data removed]",
      "text/plain": [
       "<Figure size 432x288 with 1 Axes>"
      ]
     },
     "metadata": {},
     "output_type": "display_data"
    }
   ],
   "source": [
    "plt.pie(data.kids.value_counts())\n",
    "labels=data.kids.value_counts().index.tolist()\n",
    "plt.legend(labels, loc=5,  bbox_to_anchor=(1.5, 0.5))\n",
    "plt.show"
   ]
  },
  {
   "cell_type": "markdown",
   "metadata": {},
   "source": [
    "### Scatter plot of number of kids vs. hours worked"
   ]
  },
  {
   "cell_type": "code",
   "execution_count": 35,
   "metadata": {},
   "outputs": [
    {
     "data": {
      "text/plain": [
       "Text(0,0.5,'Hours worked')"
      ]
     },
     "execution_count": 35,
     "metadata": {},
     "output_type": "execute_result"
    },
    {
     "data": {
      "image/png": "[encoded data removed]",
      "text/plain": [
       "<Figure size 432x288 with 1 Axes>"
      ]
     },
     "metadata": {},
     "output_type": "display_data"
    }
   ],
   "source": [
    "plt.scatter(data.kids, data.hours)\n",
    "plt.xlabel(\"Number of kids\")\n",
    "plt.ylabel(\"Hours worked\")"
   ]
  },
  {
   "cell_type": "markdown",
   "metadata": {},
   "source": [
    "### Group the respondant based on the number of kids they have\n",
    "Assign 1 if the respondent has more than 2 kids, else assign 0"
   ]
  },
  {
   "cell_type": "code",
   "execution_count": 36,
   "metadata": {},
   "outputs": [],
   "source": [
    "# create response variable\n",
    "data['kids_category'] = ([1 if i> 2 else 0 for i in data.kids]) # 1 if more than 2 kids, else 0"
   ]
  },
  {
   "cell_type": "markdown",
   "metadata": {},
   "source": [
    "### Histogram of hours worked in two groups"
   ]
  },
  {
   "cell_type": "code",
   "execution_count": 39,
   "metadata": {
    "scrolled": true
   },
   "outputs": [
    {
     "data": {
      "image/png": "[encoded data removed]",
      "text/plain": [
       "<Figure size 432x288 with 1 Axes>"
      ]
     },
     "metadata": {},
     "output_type": "display_data"
    }
   ],
   "source": [
    "plt.hist([data.hours [data.kids_category == 0],data.hours [data.kids_category == 1]], bins = 30, label = ['Kids <= 2','Kids >2'], color = ['green', 'blue'])\n",
    "plt.legend(loc='upper right')\n",
    "plt.show()"
   ]
  },
  {
   "cell_type": "markdown",
   "metadata": {},
   "source": [
    "## Hypothesis testing (comparing two means)\n",
    "mean_0 = Average number of hours worked in the group which have less than or equal to 2 kids\n",
    "\n",
    "mean_1 = Average number of hours worked in the group which have more than 2 kids\n",
    "\n",
    "H0 : mean_0 = mean_1\n",
    "\n",
    "H1 : mean_0 != mean_1"
   ]
  },
  {
   "cell_type": "code",
   "execution_count": 40,
   "metadata": {},
   "outputs": [
    {
     "name": "stdout",
     "output_type": "stream",
     "text": [
      "1682.641299876594 1534.651103565365\n"
     ]
    }
   ],
   "source": [
    "mean_0 = data.hours [data.kids_category == 0].mean()\n",
    "mean_1 = data.hours [data.kids_category == 1].mean()\n",
    "print(mean_0, mean_1)"
   ]
  },
  {
   "cell_type": "code",
   "execution_count": 41,
   "metadata": {
    "scrolled": true
   },
   "outputs": [
    {
     "data": {
      "text/plain": [
       "0    2431\n",
       "1    1178\n",
       "Name: kids_category, dtype: int64"
      ]
     },
     "execution_count": 41,
     "metadata": {},
     "output_type": "execute_result"
    }
   ],
   "source": [
    "# Get the sample sizes of two groups\n",
    "data.kids_category.value_counts()"
   ]
  },
  {
   "cell_type": "code",
   "execution_count": 42,
   "metadata": {},
   "outputs": [
    {
     "name": "stdout",
     "output_type": "stream",
     "text": [
      "697.3117738604425 766.012381249369\n"
     ]
    }
   ],
   "source": [
    "# get sample hours sd for two groups\n",
    "sd_0 = data.hours[data.kids_category == 0].std()\n",
    "sd_1 = data.hours[data.kids_category == 1].std()\n",
    "print(sd_0, sd_1)"
   ]
  },
  {
   "cell_type": "code",
   "execution_count": 44,
   "metadata": {},
   "outputs": [
    {
     "name": "stdout",
     "output_type": "stream",
     "text": [
      "5.600993356209448\n"
     ]
    }
   ],
   "source": [
    "# Under HO, get the test statistic ts\n",
    "S0 = (sd_0**2)/2431\n",
    "S1 = (sd_1**2)/1178\n",
    "\n",
    "ts = (mean_0-mean_1)/((S0+S1)**(1/2))\n",
    "print(ts)"
   ]
  },
  {
   "cell_type": "markdown",
   "metadata": {},
   "source": [
    "#### t statistic is 5.6"
   ]
  },
  {
   "cell_type": "code",
   "execution_count": 47,
   "metadata": {},
   "outputs": [
    {
     "name": "stdout",
     "output_type": "stream",
     "text": [
      "2.290546624021277e-08\n"
     ]
    }
   ],
   "source": [
    "# compute p value\n",
    "pval = stats.t.sf(np.abs(ts), 2431+1178-1)*2\n",
    "print(pval)"
   ]
  },
  {
   "cell_type": "markdown",
   "metadata": {},
   "source": [
    "### p-value < 0.05 therefore reject null hypothesis"
   ]
  },
  {
   "cell_type": "markdown",
   "metadata": {},
   "source": [
    "Therefore we reject H0 in favor of H1 at 5% significance level.\n",
    "Thus, the test suggests that there is a difference in average working hours between two categories (categories based of number of kids)"
   ]
  },
  {
   "cell_type": "markdown",
   "metadata": {},
   "source": [
    "# Other analysis"
   ]
  },
  {
   "cell_type": "markdown",
   "metadata": {},
   "source": [
    "### Chi-square test"
   ]
  },
  {
   "cell_type": "code",
   "execution_count": 49,
   "metadata": {},
   "outputs": [],
   "source": [
    "# divide the respondants based on the hours worked\n",
    "# 0 - lesser than the average hours\n",
    "# 1 - higher than the average hours\n",
    "data['hours_category'] = ([1 if i> data.hours.mean() else 0 for i in data.hours]) "
   ]
  },
  {
   "cell_type": "code",
   "execution_count": 51,
   "metadata": {},
   "outputs": [
    {
     "name": "stdout",
     "output_type": "stream",
     "text": [
      "kids_category      0    1\n",
      "hours_category           \n",
      "0                867  518\n",
      "1               1564  660\n"
     ]
    }
   ],
   "source": [
    "# create contingency table\n",
    "contingency = pd.crosstab(data['hours_category'], data['kids_category'])\n",
    "print(contingency)"
   ]
  },
  {
   "cell_type": "markdown",
   "metadata": {},
   "source": [
    "Chi square test can be applied as all the observed frequencies are greater than 5"
   ]
  },
  {
   "cell_type": "markdown",
   "metadata": {},
   "source": [
    "Hypothesis\n",
    "\n",
    "H0: There is no relationship between hours worked (created 2 categories mentioned above) and kids categories.\n",
    "\n",
    "Ha: There is a relationship between hours worked (created 2 categories mentioned above) and kids categories."
   ]
  },
  {
   "cell_type": "code",
   "execution_count": 52,
   "metadata": {},
   "outputs": [
    {
     "data": {
      "text/plain": [
       "(22.812097260297154,\n",
       " 1.7863772344220854e-06,\n",
       " 1,\n",
       " array([[ 932.92740371,  452.07259629],\n",
       "        [1498.07259629,  725.92740371]]))"
      ]
     },
     "execution_count": 52,
     "metadata": {},
     "output_type": "execute_result"
    }
   ],
   "source": [
    "stats.chi2_contingency(contingency)"
   ]
  },
  {
   "cell_type": "markdown",
   "metadata": {},
   "source": [
    "calculated p value = 1.7863772344220854e-06 < 0.05\n",
    "\n",
    "Therefore we reject H0 in favor of H1 at 5% significance level.\n",
    "\n",
    "Thus, the test suggests that there is a relationship between (created categories above) kids and hours categories."
   ]
  }
 ],
 "metadata": {
  "kernelspec": {
   "display_name": "Python 3",
   "language": "python",
   "name": "python3"
  },
  "language_info": {
   "codemirror_mode": {
    "name": "ipython",
    "version": 3
   },
   "file_extension": ".py",
   "mimetype": "text/x-python",
   "name": "python",
   "nbconvert_exporter": "python",
   "pygments_lexer": "ipython3",
   "version": "3.6.5"
  }
 },
 "nbformat": 4,
 "nbformat_minor": 2
}
