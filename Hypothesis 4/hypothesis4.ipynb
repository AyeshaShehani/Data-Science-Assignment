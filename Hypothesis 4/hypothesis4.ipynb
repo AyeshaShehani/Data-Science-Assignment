{
 "cells": [
  {
   "cell_type": "markdown",
   "metadata": {},
   "source": [
    "# Marital status vs. earnings"
   ]
  },
  {
   "cell_type": "markdown",
   "metadata": {},
   "source": [
    "\n",
    "Checks whether the eanings has an impact on the marital status(single vs other status) of a person"
   ]
  },
  {
   "cell_type": "code",
   "execution_count": 15,
   "metadata": {},
   "outputs": [
    {
     "name": "stdout",
     "output_type": "stream",
     "text": [
      "      Seq No  intnum  persnum  age  educatn  earnings  hours  kids  \\\n",
      "0          1       4        4   39     12.0     77250   2940     2   \n",
      "1          2       4        6   35     12.0     12000   2040     2   \n",
      "2          3       4        7   33     12.0      8000    693     1   \n",
      "3          4       4      173   39     10.0     15000   1904     2   \n",
      "4          5       5        2   47      9.0      6500   1683     5   \n",
      "5          6       6        4   44     12.0      6500   2024     2   \n",
      "6          7       6      172   38     16.0      7000   1144     3   \n",
      "7          8       7        4   38      9.0      5000   2080     4   \n",
      "8          9       7      170   39     12.0     21000   2575     3   \n",
      "9         10       7      171   37     11.0         0      0     5   \n",
      "10        11      10        3   48     13.0     13201   2080    98   \n",
      "11        12      10      171   47     12.0     22000   1920     3   \n",
      "12        13      10      178   40     12.0         0      0     0   \n",
      "13        14      11      171   38     16.0     12143    585     0   \n",
      "14        15      13        3   41     12.0         0      0     2   \n",
      "15        16      13        4   43     15.0     30000   1504     0   \n",
      "16        17      14        2   41     16.0     13000   1560     0   \n",
      "17        18      14        3   36     14.0     24000   1701     1   \n",
      "18        19      16        3   31     10.0         0      0     2   \n",
      "19        20      18      170   38     12.0         0      0     2   \n",
      "20        21      18      172   39     12.0     11250    968     3   \n",
      "21        22      18      173   45     12.0         0      0     3   \n",
      "22        23      18      177   44     17.0      8500    972     2   \n",
      "23        24      22        3   36     12.0     22883   1523     1   \n",
      "24        25      23        3   43     17.0     34500   2125     2   \n",
      "25        26      23      172   39     12.0      5100    425     4   \n",
      "26        27      39        2   45     16.0      8000   1736     2   \n",
      "27        28      40        4   31     12.0      4000    260     3   \n",
      "28        29      40        5   31     12.0     31000   2925     0   \n",
      "29        30      40      170   32     12.0     12000   1175     3   \n",
      "...      ...     ...      ...  ...      ...       ...    ...   ...   \n",
      "4826    4827    9246        2   40     12.0     18000   1920     1   \n",
      "4827    4828    9248        1   43     14.0     70000   2295     2   \n",
      "4828    4829    9249        2   36     12.0         0      0     0   \n",
      "4829    4830    9252        2   49      9.0       505     52     5   \n",
      "4830    4831    9254        2   37      6.0      9000   1713     3   \n",
      "4831    4832    9255      170   35     16.0     49000   1936     0   \n",
      "4832    4833    9256        2   42     12.0     12000   1970     5   \n",
      "4833    4834    9262        1   41     11.0     25000   2205     2   \n",
      "4834    4835    9263        2   44     13.0      8000   1080     3   \n",
      "4835    4836    9264        1   40      9.0         0      0     3   \n",
      "4836    4837    9266        1   49      9.0     15000   1480     3   \n",
      "4837    4838    9269        2   50     12.0     15857   1820     2   \n",
      "4838    4839    9271        2   50     12.0      9600   2190     5   \n",
      "4839    4840    9273        2   31      0.0         0      0     3   \n",
      "4840    4841    9274        2   42      3.0         0      0     3   \n",
      "4841    4842    9276        2   35      1.0         0      0     3   \n",
      "4842    4843    9279        2   46     99.0     19000   1209     0   \n",
      "4843    4844    9280        2   30      6.0         0      0     2   \n",
      "4844    4845    9281        2   39      9.0         0      0     2   \n",
      "4845    4846    9284        1   34     12.0       300    357     2   \n",
      "4846    4847    9285        4   41      8.0      1800    410    98   \n",
      "4847    4848    9286        2   45     12.0     20080   2040     2   \n",
      "4848    4849    9292        2   41      6.0     13000   2448     5   \n",
      "4849    4850    9293        1   32     10.0         0      0     4   \n",
      "4850    4851    9294        2   37     12.0         0      0     2   \n",
      "4851    4852    9297        2   42      2.0      3000   1040     4   \n",
      "4852    4853    9301        2   43     12.0         0      0     2   \n",
      "4853    4854    9302        1   37      8.0     22045   2793    98   \n",
      "4854    4855    9305        2   40      6.0       134     30     3   \n",
      "4855    4856    9306        2   37     17.0     33000   2423     4   \n",
      "\n",
      "            married  marital_status  \n",
      "0           married               0  \n",
      "1          divorced               0  \n",
      "2           married               0  \n",
      "3           married               0  \n",
      "4           married               0  \n",
      "5           married               0  \n",
      "6           married               0  \n",
      "7          divorced               0  \n",
      "8           married               0  \n",
      "9           married               0  \n",
      "10         divorced               0  \n",
      "11          married               0  \n",
      "12        separated               0  \n",
      "13          married               0  \n",
      "14          married               0  \n",
      "15    never married               1  \n",
      "16    never married               1  \n",
      "17          married               0  \n",
      "18          married               0  \n",
      "19          married               0  \n",
      "20          married               0  \n",
      "21          married               0  \n",
      "22          married               0  \n",
      "23          married               0  \n",
      "24         divorced               0  \n",
      "25          married               0  \n",
      "26          married               0  \n",
      "27          married               0  \n",
      "28          widowed               0  \n",
      "29          married               0  \n",
      "...             ...             ...  \n",
      "4826        married               0  \n",
      "4827       divorced               0  \n",
      "4828  never married               1  \n",
      "4829        married               0  \n",
      "4830        married               0  \n",
      "4831  never married               1  \n",
      "4832        married               0  \n",
      "4833        married               0  \n",
      "4834        married               0  \n",
      "4835  never married               1  \n",
      "4836  never married               1  \n",
      "4837        married               0  \n",
      "4838        married               0  \n",
      "4839        married               0  \n",
      "4840        married               0  \n",
      "4841        married               0  \n",
      "4842        married               0  \n",
      "4843        married               0  \n",
      "4844  never married               1  \n",
      "4845      separated               0  \n",
      "4846       divorced               0  \n",
      "4847       divorced               0  \n",
      "4848        married               0  \n",
      "4849  never married               1  \n",
      "4850        married               0  \n",
      "4851        married               0  \n",
      "4852        married               0  \n",
      "4853       divorced               0  \n",
      "4854        married               0  \n",
      "4855        married               0  \n",
      "\n",
      "[4856 rows x 10 columns]\n"
     ]
    }
   ],
   "source": [
    "\n",
    "import csv\n",
    "import pandas as pd\n",
    "import matplotlib.pyplot as plt\n",
    "\n",
    "sample_data = pd.read_csv(\"PSID.csv\", encoding = 'latin1', low_memory=False)\n",
    "\n",
    "# create response variable kids\n",
    "sample_data['marital_status'] = ([1 if i=='never married' else 0 for i in sample_data.married]) # 1 if single else 0\n",
    "\n",
    "print(sample_data)"
   ]
  },
  {
   "cell_type": "code",
   "execution_count": 18,
   "metadata": {},
   "outputs": [
    {
     "data": {
      "image/png": "[encoded data removed]",
      "text/plain": [
       "<Figure size 432x288 with 1 Axes>"
      ]
     },
     "metadata": {
      "needs_background": "light"
     },
     "output_type": "display_data"
    }
   ],
   "source": [
    "\n",
    "# Visualization\n",
    "plt.hist(sample_data.earnings, bins = 30)\n",
    "plt.title('Histogram of earnings')\n",
    "plt.show()"
   ]
  },
  {
   "cell_type": "code",
   "execution_count": 2,
   "metadata": {},
   "outputs": [
    {
     "data": {
      "image/png": "[encoded data removed]",
      "text/plain": [
       "<Figure size 432x288 with 1 Axes>"
      ]
     },
     "metadata": {
      "needs_background": "light"
     },
     "output_type": "display_data"
    }
   ],
   "source": [
    "plt.hist([sample_data.earnings [sample_data.marital_status == 1],sample_data.earnings [sample_data.marital_status == 0]], bins = 24, label = ['single ','other'], color = ['green', 'blue'])\n",
    "plt.legend(loc='upper right')\n",
    "plt.show()"
   ]
  },
  {
   "cell_type": "markdown",
   "metadata": {},
   "source": [
    "graph depicts that the earnings of singles is considerably low compared to other marital status."
   ]
  },
  {
   "cell_type": "markdown",
   "metadata": {},
   "source": [
    "### Hypotheses Testing\n",
    "H0 : There is no difference in average earnings between singles and other marital status categories (m0 = m1).\n",
    "\n",
    "H1 : average earnings of the single unmarried person has lesser earnings compared to a other marital status."
   ]
  },
  {
   "cell_type": "code",
   "execution_count": 8,
   "metadata": {},
   "outputs": [
    {
     "name": "stdout",
     "output_type": "stream",
     "text": [
      "14659.85125748503 11698.154185022026\n"
     ]
    }
   ],
   "source": [
    "mean_single = sample_data.earnings [sample_data.marital_status == 0].mean()\n",
    "mean_other = sample_data.earnings [sample_data.marital_status == 1].mean()\n",
    "print(mean_single, mean_other);"
   ]
  },
  {
   "cell_type": "code",
   "execution_count": 9,
   "metadata": {},
   "outputs": [
    {
     "name": "stdout",
     "output_type": "stream",
     "text": [
      "2961.6970724630046\n"
     ]
    }
   ],
   "source": [
    "mean_diff = mean_single-mean_other\n",
    "print(mean_diff)"
   ]
  },
  {
   "cell_type": "code",
   "execution_count": 10,
   "metadata": {},
   "outputs": [
    {
     "name": "stdout",
     "output_type": "stream",
     "text": [
      "15985.447449020035\n"
     ]
    }
   ],
   "source": [
    "# get sample earnings sd\n",
    "sd = sample_data.earnings.std()\n",
    "print(sd)"
   ]
  },
  {
   "cell_type": "code",
   "execution_count": 11,
   "metadata": {},
   "outputs": [
    {
     "name": "stdout",
     "output_type": "stream",
     "text": [
      "12.910860182175023\n"
     ]
    }
   ],
   "source": [
    "# compute t statistic\n",
    "t = (2961.6970724630046-0)/(15985.447449020035/4856**(1/2))\n",
    "print(t)"
   ]
  },
  {
   "cell_type": "markdown",
   "metadata": {},
   "source": [
    "According to null hypothesis, test statistic is higher than t distribution value at 5% significance.\n",
    "\n",
    "Therefore, reject null hypothesis.\n",
    "\n",
    "It results in Average earnings of persons who is unmarried is lesser than that of persons with other marital status"
   ]
  },
  {
   "cell_type": "code",
   "execution_count": null,
   "metadata": {},
   "outputs": [],
   "source": []
  }
 ],
 "metadata": {
  "celltoolbar": "Raw Cell Format",
  "kernelspec": {
   "display_name": "Python 3",
   "language": "python",
   "name": "python3"
  },
  "language_info": {
   "codemirror_mode": {
    "name": "ipython",
    "version": 3
   },
   "file_extension": ".py",
   "mimetype": "text/x-python",
   "name": "python",
   "nbconvert_exporter": "python",
   "pygments_lexer": "ipython3",
   "version": "3.7.1"
  }
 },
 "nbformat": 4,
 "nbformat_minor": 2
}
